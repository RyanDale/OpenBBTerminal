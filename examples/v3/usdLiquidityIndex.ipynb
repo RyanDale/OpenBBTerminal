{
 "cells": [
  {
   "attachments": {},
   "cell_type": "markdown",
   "metadata": {},
   "source": [
    "# Calculating the USD Liquidity Index with the OpenBB Platform\n",
    "\n",
    "This popular indicator is made from a simple subtraction of three FRED series that are published every Wednesday, and is often overlayed with risk assets like the S&P 500 Index or Bitcoin.  The OpenBB SDK is well suited for this task, let's take a look to create this index.\n",
    "\n",
    "The formula is defined as:\n",
    "\n",
    "```console\n",
    "WALCL (All Liabilities) – WLRRAL (RRP) – WDTGAL (TGA)\n",
    "```\n",
    "\n",
    "To get these data series, we will use the `openbb-fred` data extension and the `economy` module.  First thing is to import the Python interface, and we will also import Pandas to conduct some DataFrame operations."
   ]
  },
  {
   "cell_type": "code",
   "execution_count": null,
   "metadata": {},
   "outputs": [],
   "source": [
    "import json\n",
    "\n",
    "from openbb import obb\n",
    "from pandas import DataFrame\n"
   ]
  },
  {
   "cell_type": "markdown",
   "metadata": {},
   "source": [
    "There are two `fred` functions in the `openbb-economy` router:\n",
    "\n",
    "- `obb.economy.fred_search()`\n",
    "- `obb.economy.fred_series()`"
   ]
  },
  {
   "cell_type": "code",
   "execution_count": null,
   "metadata": {},
   "outputs": [],
   "source": [
    "data = obb.economy.fred_series([\"WALCL\", \"WLRRAL\", \"WDTGAL\", \"SP500\"])\n",
    "\n",
    "data"
   ]
  },
  {
   "cell_type": "markdown",
   "metadata": {},
   "source": [
    "There is metadata from each series in the warnings of the response object.  It can be recovered as a JSON dictionary."
   ]
  },
  {
   "cell_type": "code",
   "execution_count": null,
   "metadata": {},
   "outputs": [],
   "source": [
    "metadata = json.loads(data.warnings[0].message)\n",
    "\n",
    "display(metadata.keys())\n",
    "display(metadata[\"WALCL\"].get(\"title\"))\n",
    "display(metadata[\"WALCL\"].get(\"units\"))"
   ]
  },
  {
   "attachments": {},
   "cell_type": "markdown",
   "metadata": {},
   "source": [
    "## Querying FRED\n",
    "\n",
    "If we didn't already know the ID for the series, we can search with:"
   ]
  },
  {
   "cell_type": "code",
   "execution_count": null,
   "metadata": {},
   "outputs": [],
   "source": [
    "# The first result is the series we are looking for as the starting value.\n",
    "\n",
    "obb.economy.fred_search(\"Wednesday Levels\").to_df().head(3)"
   ]
  },
  {
   "cell_type": "code",
   "execution_count": null,
   "metadata": {},
   "outputs": [],
   "source": [
    "# Adding \"Reverse Repo\" to the search returns the second series in the equation, as the first result.\n",
    "\n",
    "obb.economy.fred_search(\"Wednesday Levels Reverse Repo\").to_df().head(3)"
   ]
  },
  {
   "cell_type": "code",
   "execution_count": null,
   "metadata": {},
   "outputs": [],
   "source": [
    "# Refining the search for the Treasury General Account, returns the final series in the equation, as the first result.\n",
    "\n",
    "obb.economy.fred_search(\"Wednesday Levels Treasury General\").to_df().head(3)"
   ]
  },
  {
   "cell_type": "code",
   "execution_count": null,
   "metadata": {},
   "outputs": [],
   "source": [
    "# Several major equity indices are published to FRED, S&P 500 is one of them.\n",
    "\n",
    "obb.economy.fred_search(\"SP500\").to_df().head(2)"
   ]
  },
  {
   "attachments": {},
   "cell_type": "markdown",
   "metadata": {},
   "source": [
    "By looking at the descriptions, we can confirm that all three Federal Reserve series are numbers as `Millions of USD`.  If they were not all equivalent, some adjustments would need to be made before applying the equation."
   ]
  },
  {
   "cell_type": "code",
   "execution_count": null,
   "metadata": {},
   "outputs": [],
   "source": [
    "for id in metadata:\n",
    "    display(f\"{id}: {metadata[id]['units']}\")\n"
   ]
  },
  {
   "attachments": {},
   "cell_type": "markdown",
   "metadata": {},
   "source": [
    "Inspecting the time series element shows that the S&P 500 data (as published to FRED) does not extend as far back as the others.  Let's drop the NaN values and start the time series at a common starting point, which is approximately ten years ago."
   ]
  },
  {
   "cell_type": "code",
   "execution_count": null,
   "metadata": {},
   "outputs": [],
   "source": [
    "display(data.to_df().head(4))\n",
    "display(data.to_df().dropna().head(4))\n",
    "\n",
    "# We'll create a new DataFrame object with the dropped rows.\n",
    "liquidity_index = DataFrame(data.to_df().dropna())"
   ]
  },
  {
   "attachments": {},
   "cell_type": "markdown",
   "metadata": {},
   "source": [
    "Applying the formula will simply be a matter of subtracting the first, three, columns."
   ]
  },
  {
   "cell_type": "code",
   "execution_count": null,
   "metadata": {},
   "outputs": [],
   "source": [
    "\n",
    "liquidity_index[\"USD Liquidity Index\"] = (liquidity_index[\"WALCL\"] - liquidity_index[\"WLRRAL\"] - liquidity_index[\"WDTGAL\"])\n",
    "\n",
    "liquidity_index.tail(4)"
   ]
  },
  {
   "attachments": {},
   "cell_type": "markdown",
   "metadata": {},
   "source": [
    "Now that there are two items to compare, let's draw it!"
   ]
  },
  {
   "cell_type": "code",
   "execution_count": null,
   "metadata": {},
   "outputs": [],
   "source": [
    "import plotly.graph_objects as go\n",
    "fig = go.Figure()\n",
    "\n",
    "fig.add_scatter(\n",
    "    x=liquidity_index.index, y=liquidity_index[\"USD Liquidity Index\"]/1000, name=\"USD Liquidity Index (Billions)\", yaxis=\"y1\")\n",
    "\n",
    "fig.add_scatter(\n",
    "    x=liquidity_index.index, y=liquidity_index[\"SP500\"], name=\"S&P 500 Index\", yaxis=\"y2\")\n",
    "\n",
    "fig.update_layout(\n",
    "    yaxis=dict(title=\"USD Liquidity Index (Billions)\",side=\"left\", position=0, titlefont=dict(size=12), showgrid=False),\n",
    "    yaxis2=dict(title=\"S&P 500 Index\", side=\"right\", overlaying=\"y\", position=1, titlefont=dict(size=12)),\n",
    "    title=\"USD Liquidity Index vs. S&P 500 Index\",\n",
    "    title_y=0.90,\n",
    "    title_x=0.5,\n",
    "    autosize=True,\n",
    ")\n"
   ]
  },
  {
   "attachments": {},
   "cell_type": "markdown",
   "metadata": {},
   "source": [
    "To draw them both on the same y-axis, they will need to be normalized.  There are several methods for normalizing a series, the fourth function in the block below paramaterizes a few of them, making it easy to A/B them."
   ]
  },
  {
   "cell_type": "code",
   "execution_count": null,
   "metadata": {},
   "outputs": [],
   "source": [
    "y_axis = liquidity_index[[\"USD Liquidity Index\", \"SP500\"]]\n",
    "\n",
    "def absolute_maximum_scale(series):\n",
    "    return series / series.abs().max()\n",
    "\n",
    "def min_max_scaling(series):\n",
    "    return (series - series.min()) / (series.max() - series.min())\n",
    "\n",
    "def z_score_standardization(series):\n",
    "    return (series - series.mean()) / series.std()\n",
    "\n",
    "methods = {\"z\": z_score_standardization, \"m\": min_max_scaling, \"a\": absolute_maximum_scale}\n",
    "\n",
    "def normalize(data: DataFrame, method: str = \"z\") -> DataFrame:\n",
    "    for col in data.columns:\n",
    "        data.loc[:, col] = methods[f\"{method}\"](data.loc[:, col])\n",
    "\n",
    "    return data\n",
    "\n",
    "normalized = normalize(y_axis, method = \"m\")\n",
    "\n",
    "normalized.tail(3)"
   ]
  },
  {
   "attachments": {},
   "cell_type": "markdown",
   "metadata": {},
   "source": [
    "Now they can be easily plotted using the built-in `DataFrame.plot` method."
   ]
  },
  {
   "cell_type": "code",
   "execution_count": null,
   "metadata": {},
   "outputs": [],
   "source": [
    "import pandas as pd\n",
    "pd.options.plotting.backend = \"plotly\"\n",
    "normalized.plot()"
   ]
  },
  {
   "cell_type": "markdown",
   "metadata": {},
   "source": [
    "If you just want to visualize the results, this is a fast way of doing it. However, titles are other customizatons clean things up."
   ]
  },
  {
   "cell_type": "code",
   "execution_count": null,
   "metadata": {},
   "outputs": [],
   "source": [
    "fig = go.Figure()\n",
    "\n",
    "fig.add_scatter(\n",
    "    x=normalized.index, y=normalized[\"USD Liquidity Index\"], name=\"USD Liquidity Index\")\n",
    "\n",
    "fig.add_scatter(\n",
    "    x=normalized.index, y=normalized[\"SP500\"], name=\"S&P 500 Index\")\n",
    "\n",
    "fig.update_layout(\n",
    "    title=\"USD Liquidity Index vs. S&P 500 Index (Normalized)\",\n",
    "    title_y=0.90,\n",
    "    title_x=0.5,\n",
    "    autosize=True,\n",
    ")"
   ]
  },
  {
   "attachments": {},
   "cell_type": "markdown",
   "metadata": {},
   "source": [
    "The combinations are endless and we love seeing your creations, tag us on social media with your custom indexes and indicators."
   ]
  }
 ],
 "metadata": {
  "kernelspec": {
   "display_name": "obb",
   "language": "python",
   "name": "python3"
  },
  "language_info": {
   "codemirror_mode": {
    "name": "ipython",
    "version": 3
   },
   "file_extension": ".py",
   "mimetype": "text/x-python",
   "name": "python",
   "nbconvert_exporter": "python",
   "pygments_lexer": "ipython3",
   "version": "3.11.4"
  }
 },
 "nbformat": 4,
 "nbformat_minor": 2
}
